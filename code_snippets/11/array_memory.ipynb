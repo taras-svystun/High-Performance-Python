{
 "cells": [
  {
   "cell_type": "code",
   "execution_count": 6,
   "id": "0ca6649d",
   "metadata": {},
   "outputs": [],
   "source": [
    "from array import array\n",
    "from sys import getsizeof"
   ]
  },
  {
   "cell_type": "code",
   "execution_count": 2,
   "id": "8538b044",
   "metadata": {},
   "outputs": [],
   "source": [
    "%load_ext memory_profiler"
   ]
  },
  {
   "cell_type": "code",
   "execution_count": 3,
   "id": "8cfe4034",
   "metadata": {},
   "outputs": [
    {
     "name": "stdout",
     "output_type": "stream",
     "text": [
      "peak memory: 554.33 MiB, increment: 492.14 MiB\n"
     ]
    }
   ],
   "source": [
    "%memit array('l', range(10**8))"
   ]
  },
  {
   "cell_type": "code",
   "execution_count": 4,
   "id": "58f42f06",
   "metadata": {},
   "outputs": [
    {
     "name": "stdout",
     "output_type": "stream",
     "text": [
      "peak memory: 3758.34 MiB, increment: 3687.86 MiB\n"
     ]
    }
   ],
   "source": [
    "%memit list(range(10**8))"
   ]
  },
  {
   "cell_type": "code",
   "execution_count": 11,
   "id": "864b9a7d",
   "metadata": {},
   "outputs": [
    {
     "data": {
      "text/plain": [
       "(8, array('l', [0, 1, 2, 3, 4, 5, 6, 7, 8, 9]), 8.20354848)"
      ]
     },
     "execution_count": 11,
     "metadata": {},
     "output_type": "execute_result"
    }
   ],
   "source": [
    "arr = array('l', range(10**8))\n",
    "arr.itemsize, arr[:10], getsizeof(arr) / len(arr)"
   ]
  },
  {
   "cell_type": "code",
   "execution_count": 10,
   "id": "c4fca118",
   "metadata": {},
   "outputs": [
    {
     "data": {
      "text/plain": [
       "(8.00000056, [0, 1, 2, 3, 4, 5, 6, 7, 8, 9])"
      ]
     },
     "execution_count": 10,
     "metadata": {},
     "output_type": "execute_result"
    }
   ],
   "source": [
    "lst = list(range(10**8))\n",
    "getsizeof(lst) / len(lst), lst[:10]"
   ]
  }
 ],
 "metadata": {
  "kernelspec": {
   "display_name": "Python 3 (ipykernel)",
   "language": "python",
   "name": "python3"
  },
  "language_info": {
   "codemirror_mode": {
    "name": "ipython",
    "version": 3
   },
   "file_extension": ".py",
   "mimetype": "text/x-python",
   "name": "python",
   "nbconvert_exporter": "python",
   "pygments_lexer": "ipython3",
   "version": "3.9.5"
  }
 },
 "nbformat": 4,
 "nbformat_minor": 5
}
